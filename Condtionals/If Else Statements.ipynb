{
 "cells": [
  {
   "cell_type": "code",
   "execution_count": 6,
   "id": "468f516b",
   "metadata": {},
   "outputs": [
    {
     "name": "stdout",
     "output_type": "stream",
     "text": [
      "this is outside the if body\n"
     ]
    }
   ],
   "source": [
    "a=20\n",
    "if a>50:\n",
    "    print(\"this is the if body\")\n",
    "print(\"this is outside the if body\")"
   ]
  },
  {
   "cell_type": "code",
   "execution_count": 7,
   "id": "f62ae969",
   "metadata": {},
   "outputs": [
    {
     "name": "stdout",
     "output_type": "stream",
     "text": [
      "this is the if body\n",
      "this is outside the if body\n"
     ]
    }
   ],
   "source": [
    "a=60\n",
    "if a>50:\n",
    "    print(\"this is the if body\")\n",
    "print(\"this is outside the if body\")"
   ]
  },
  {
   "cell_type": "markdown",
   "id": "bf01f6ac",
   "metadata": {},
   "source": [
    "# If else statement"
   ]
  },
  {
   "cell_type": "code",
   "execution_count": 2,
   "id": "5529ef8a",
   "metadata": {},
   "outputs": [
    {
     "name": "stdout",
     "output_type": "stream",
     "text": [
      "This is if block\n",
      "i is an even number\n"
     ]
    }
   ],
   "source": [
    "i=20\n",
    "if i%2==0:\n",
    "    print(\"This is if block\")\n",
    "    print(\"i is an even number\")\n",
    "else:\n",
    "    print(\"This is else block\")\n",
    "    print(\"i is an odd number\")"
   ]
  },
  {
   "cell_type": "markdown",
   "id": "01590d59",
   "metadata": {},
   "source": [
    "# Nested if statement"
   ]
  },
  {
   "cell_type": "code",
   "execution_count": 8,
   "id": "3bfa4e3e",
   "metadata": {},
   "outputs": [
    {
     "name": "stdout",
     "output_type": "stream",
     "text": [
      "c is an odd number less than 25\n"
     ]
    }
   ],
   "source": [
    "c=21\n",
    "if c<25:\n",
    "    if c%2==0:\n",
    "        print(\"c is an even number less than 25\")\n",
    "    else:\n",
    "        print(\"c is an odd number less than 25\")\n",
    "else:\n",
    "    print(\"c is an greater than 25\")\n",
    "        "
   ]
  },
  {
   "cell_type": "markdown",
   "id": "c1aeefc7",
   "metadata": {},
   "source": [
    "# If-elif-else statement"
   ]
  },
  {
   "cell_type": "code",
   "execution_count": 14,
   "id": "0efa561d",
   "metadata": {},
   "outputs": [
    {
     "name": "stdout",
     "output_type": "stream",
     "text": [
      "This is the consonant\n"
     ]
    }
   ],
   "source": [
    "var=\"z\"\n",
    "if var==\"a\":\n",
    "   print(\"This is the vowel a\")\n",
    "elif var==\"e\":\n",
    "   print(\"This is the vowel e\")\n",
    "elif var==\"i\":\n",
    "   print(\"This is the vowel i\")\n",
    "elif var==\"o\":\n",
    "   print(\"This is the vowel o\")\n",
    "elif var==\"u\":\n",
    "   print(\"This is the vowel u\")\n",
    "else:\n",
    "   print(\"This is the consonant\")"
   ]
  },
  {
   "cell_type": "code",
   "execution_count": null,
   "id": "7f93c171",
   "metadata": {},
   "outputs": [],
   "source": []
  },
  {
   "cell_type": "code",
   "execution_count": null,
   "id": "69f04a94",
   "metadata": {},
   "outputs": [],
   "source": []
  },
  {
   "cell_type": "code",
   "execution_count": null,
   "id": "84f2b26a",
   "metadata": {},
   "outputs": [],
   "source": []
  },
  {
   "cell_type": "code",
   "execution_count": null,
   "id": "e63d4c32",
   "metadata": {},
   "outputs": [],
   "source": []
  },
  {
   "cell_type": "code",
   "execution_count": null,
   "id": "63c04727",
   "metadata": {},
   "outputs": [],
   "source": []
  },
  {
   "cell_type": "code",
   "execution_count": null,
   "id": "0278024b",
   "metadata": {},
   "outputs": [],
   "source": []
  }
 ],
 "metadata": {
  "kernelspec": {
   "display_name": "Python 3.10.4 64-bit",
   "language": "python",
   "name": "python3"
  },
  "language_info": {
   "codemirror_mode": {
    "name": "ipython",
    "version": 3
   },
   "file_extension": ".py",
   "mimetype": "text/x-python",
   "name": "python",
   "nbconvert_exporter": "python",
   "pygments_lexer": "ipython3",
   "version": "3.10.4"
  },
  "vscode": {
   "interpreter": {
    "hash": "26de051ba29f2982a8de78e945f0abaf191376122a1563185a90213a26c5da77"
   }
  }
 },
 "nbformat": 4,
 "nbformat_minor": 5
}
