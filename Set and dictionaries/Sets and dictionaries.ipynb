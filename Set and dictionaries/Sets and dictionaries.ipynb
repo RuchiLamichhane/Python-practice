{
 "cells": [
  {
   "cell_type": "markdown",
   "id": "6230d3fd",
   "metadata": {},
   "source": [
    "# Sets and dictionaries"
   ]
  },
  {
   "cell_type": "markdown",
   "id": "05e6e434",
   "metadata": {},
   "source": [
    "# Creating Dictionaries"
   ]
  },
  {
   "cell_type": "code",
   "execution_count": 104,
   "id": "7d363da4",
   "metadata": {},
   "outputs": [
    {
     "name": "stdout",
     "output_type": "stream",
     "text": [
      "{}\n",
      "<class 'dict'>\n"
     ]
    }
   ],
   "source": [
    "d1={}\n",
    "print(d1)\n",
    "print(type(d1))"
   ]
  },
  {
   "cell_type": "code",
   "execution_count": 105,
   "id": "3bbc6411",
   "metadata": {},
   "outputs": [
    {
     "name": "stdout",
     "output_type": "stream",
     "text": [
      "{1: 'Welcome', 2: 'to', 3: 'tutorial'}\n"
     ]
    }
   ],
   "source": [
    "d2={1:\"Welcome\",2:\"to\",3:\"tutorial\"}\n",
    "print(d2)"
   ]
  },
  {
   "cell_type": "code",
   "execution_count": 106,
   "id": "0c7a514a",
   "metadata": {},
   "outputs": [
    {
     "name": "stdout",
     "output_type": "stream",
     "text": [
      "{'name': 'sam', 'age': 22, 'profession': 'student'}\n"
     ]
    }
   ],
   "source": [
    "d3={\"name\":\"sam\",\"age\":22,\"profession\":\"student\"}\n",
    "print(d3)"
   ]
  },
  {
   "cell_type": "code",
   "execution_count": 107,
   "id": "ccb4eac3",
   "metadata": {},
   "outputs": [
    {
     "name": "stdout",
     "output_type": "stream",
     "text": [
      "{1: 'Welcome', 2: 'to', 3: 'tutorial'}\n"
     ]
    }
   ],
   "source": [
    "d4=dict({1:\"Welcome\",2:\"to\",3:\"tutorial\"})\n",
    "print(d4)"
   ]
  },
  {
   "cell_type": "code",
   "execution_count": 108,
   "id": "ac963f96",
   "metadata": {},
   "outputs": [
    {
     "name": "stdout",
     "output_type": "stream",
     "text": [
      "{1: 'Welcome', 2: 'to', 3: 'tutorial'}\n"
     ]
    }
   ],
   "source": [
    "d5=dict([(1,\"Welcome\"),(2,\"to\"),(3,\"tutorial\")])\n",
    "print(d5)\n"
   ]
  },
  {
   "cell_type": "code",
   "execution_count": 109,
   "id": "021c0d95",
   "metadata": {},
   "outputs": [
    {
     "name": "stdout",
     "output_type": "stream",
     "text": [
      "{'name': {'first': 'sam', 'last': 'crew'}, 'age': 22, 'profession': 'student'}\n"
     ]
    }
   ],
   "source": [
    "d6={\"name\":{\"first\":\"sam\",\"last\":\"crew\"},\"age\":22,\"profession\":\"student\"}\n",
    "print(d6)"
   ]
  },
  {
   "cell_type": "markdown",
   "id": "24cde0c8",
   "metadata": {},
   "source": [
    "# Adding elements"
   ]
  },
  {
   "cell_type": "code",
   "execution_count": 124,
   "id": "49fb8dd1",
   "metadata": {},
   "outputs": [
    {
     "name": "stdout",
     "output_type": "stream",
     "text": [
      "{0: 'welcome'}\n"
     ]
    }
   ],
   "source": [
    "d={}\n",
    "d[0]=\"welcome\"\n",
    "print(d)"
   ]
  },
  {
   "cell_type": "code",
   "execution_count": 125,
   "id": "95ca96d4",
   "metadata": {},
   "outputs": [
    {
     "name": "stdout",
     "output_type": "stream",
     "text": [
      "{0: 'welcome', 1: ('how', 'are', 'you')}\n"
     ]
    }
   ],
   "source": [
    "d[1]=(\"how\",\"are\",\"you\")\n",
    "print(d)"
   ]
  },
  {
   "cell_type": "code",
   "execution_count": 126,
   "id": "415b515a",
   "metadata": {},
   "outputs": [
    {
     "name": "stdout",
     "output_type": "stream",
     "text": [
      "{0: 'welcome', 1: ('how', 'are', 'you'), 'name': 'sam'}\n"
     ]
    }
   ],
   "source": [
    "d[\"name\"]=\"sam\"\n",
    "print(d)"
   ]
  },
  {
   "cell_type": "code",
   "execution_count": 127,
   "id": "e8c4c727",
   "metadata": {},
   "outputs": [
    {
     "name": "stdout",
     "output_type": "stream",
     "text": [
      "{0: 'welcome', 1: ('how', 'are', 'you'), 'name': {'first': 'sam', 'last': 'crew'}}\n"
     ]
    }
   ],
   "source": [
    "d[\"name\"]={\"first\":\"sam\",\"last\":\"crew\"}\n",
    "print(d)"
   ]
  },
  {
   "cell_type": "markdown",
   "id": "2b366f1e",
   "metadata": {},
   "source": [
    "# Accessing elements"
   ]
  },
  {
   "cell_type": "code",
   "execution_count": 114,
   "id": "3d4cd599",
   "metadata": {},
   "outputs": [
    {
     "name": "stdout",
     "output_type": "stream",
     "text": [
      "{0: 'welcome', 1: ('how', 'are', 'you'), 'name': {'first': 'sam', 'last': 'crew'}}\n"
     ]
    }
   ],
   "source": [
    "print(d)"
   ]
  },
  {
   "cell_type": "code",
   "execution_count": 115,
   "id": "54913d10",
   "metadata": {},
   "outputs": [
    {
     "name": "stdout",
     "output_type": "stream",
     "text": [
      "{'first': 'sam', 'last': 'crew'}\n"
     ]
    }
   ],
   "source": [
    "print(d[\"name\"])"
   ]
  },
  {
   "cell_type": "code",
   "execution_count": 116,
   "id": "d6af97a7",
   "metadata": {},
   "outputs": [
    {
     "name": "stdout",
     "output_type": "stream",
     "text": [
      "sam\n"
     ]
    }
   ],
   "source": [
    "print(d[\"name\"][\"first\"])"
   ]
  },
  {
   "cell_type": "code",
   "execution_count": 117,
   "id": "60cd6606",
   "metadata": {},
   "outputs": [
    {
     "name": "stdout",
     "output_type": "stream",
     "text": [
      "('how', 'are', 'you')\n"
     ]
    }
   ],
   "source": [
    "print(d.get(1))"
   ]
  },
  {
   "cell_type": "markdown",
   "id": "554a6014",
   "metadata": {},
   "source": [
    "# Deleting elements"
   ]
  },
  {
   "cell_type": "code",
   "execution_count": 118,
   "id": "78908e5e",
   "metadata": {},
   "outputs": [
    {
     "name": "stdout",
     "output_type": "stream",
     "text": [
      "{0: 'welcome', 1: ('how', 'are', 'you'), 'name': {'first': 'sam', 'last': 'crew'}}\n"
     ]
    }
   ],
   "source": [
    "print(d)"
   ]
  },
  {
   "cell_type": "code",
   "execution_count": 119,
   "id": "e991ad5b",
   "metadata": {},
   "outputs": [
    {
     "data": {
      "text/plain": [
       "'welcome'"
      ]
     },
     "execution_count": 119,
     "metadata": {},
     "output_type": "execute_result"
    }
   ],
   "source": [
    "d.pop(0)"
   ]
  },
  {
   "cell_type": "code",
   "execution_count": 120,
   "id": "baef096d",
   "metadata": {},
   "outputs": [
    {
     "name": "stdout",
     "output_type": "stream",
     "text": [
      "{1: ('how', 'are', 'you'), 'name': {'first': 'sam', 'last': 'crew'}}\n"
     ]
    }
   ],
   "source": [
    "print(d)"
   ]
  },
  {
   "cell_type": "code",
   "execution_count": 121,
   "id": "0fb773a3",
   "metadata": {},
   "outputs": [
    {
     "data": {
      "text/plain": [
       "('name', {'first': 'sam', 'last': 'crew'})"
      ]
     },
     "execution_count": 121,
     "metadata": {},
     "output_type": "execute_result"
    }
   ],
   "source": [
    "d.popitem()"
   ]
  },
  {
   "cell_type": "code",
   "execution_count": 122,
   "id": "7e459b9b",
   "metadata": {},
   "outputs": [
    {
     "name": "stdout",
     "output_type": "stream",
     "text": [
      "{1: ('how', 'are', 'you')}\n"
     ]
    }
   ],
   "source": [
    "print(d)"
   ]
  },
  {
   "cell_type": "markdown",
   "id": "8df4a55b",
   "metadata": {},
   "source": [
    "# using built in functions"
   ]
  },
  {
   "cell_type": "code",
   "execution_count": 128,
   "id": "c5168788",
   "metadata": {},
   "outputs": [
    {
     "name": "stdout",
     "output_type": "stream",
     "text": [
      "{0: 'welcome', 1: ('how', 'are', 'you'), 'name': {'first': 'sam', 'last': 'crew'}}\n"
     ]
    }
   ],
   "source": [
    "print(d)"
   ]
  },
  {
   "cell_type": "code",
   "execution_count": 129,
   "id": "e1d93f15",
   "metadata": {},
   "outputs": [
    {
     "data": {
      "text/plain": [
       "dict_values(['welcome', ('how', 'are', 'you'), {'first': 'sam', 'last': 'crew'}])"
      ]
     },
     "execution_count": 129,
     "metadata": {},
     "output_type": "execute_result"
    }
   ],
   "source": [
    "d.values()"
   ]
  },
  {
   "cell_type": "code",
   "execution_count": 130,
   "id": "633a3876",
   "metadata": {},
   "outputs": [
    {
     "data": {
      "text/plain": [
       "{'a': 1, 'b': 1, 'c': 1, 'd': 1}"
      ]
     },
     "execution_count": 130,
     "metadata": {},
     "output_type": "execute_result"
    }
   ],
   "source": [
    "keys={'a','b','c','d'}\n",
    "value=1\n",
    "dict.fromkeys(keys,value)"
   ]
  },
  {
   "cell_type": "code",
   "execution_count": 131,
   "id": "fc75ee63",
   "metadata": {},
   "outputs": [],
   "source": [
    "d.clear()"
   ]
  },
  {
   "cell_type": "code",
   "execution_count": 132,
   "id": "9a781264",
   "metadata": {},
   "outputs": [
    {
     "name": "stdout",
     "output_type": "stream",
     "text": [
      "{}\n"
     ]
    }
   ],
   "source": [
    "print(d)"
   ]
  },
  {
   "cell_type": "markdown",
   "id": "7bb4edf1",
   "metadata": {},
   "source": [
    "# Sets"
   ]
  },
  {
   "cell_type": "code",
   "execution_count": 133,
   "id": "4c1a03ff",
   "metadata": {},
   "outputs": [
    {
     "name": "stdout",
     "output_type": "stream",
     "text": [
      "{1, 2, 3, 4}\n",
      "<class 'set'>\n"
     ]
    }
   ],
   "source": [
    "s=set([1,2,3,4])\n",
    "print(s)\n",
    "print(type(s))"
   ]
  },
  {
   "cell_type": "code",
   "execution_count": 134,
   "id": "277d0c4a",
   "metadata": {},
   "outputs": [],
   "source": [
    "s.add(\"a\")"
   ]
  },
  {
   "cell_type": "code",
   "execution_count": 135,
   "id": "7c96e0c4",
   "metadata": {},
   "outputs": [
    {
     "name": "stdout",
     "output_type": "stream",
     "text": [
      "{1, 2, 3, 4, 'a'}\n"
     ]
    }
   ],
   "source": [
    "print(s)"
   ]
  },
  {
   "cell_type": "code",
   "execution_count": 136,
   "id": "9907fe8b",
   "metadata": {},
   "outputs": [
    {
     "name": "stdout",
     "output_type": "stream",
     "text": [
      "frozenset({1, 2, 3, 4})\n"
     ]
    }
   ],
   "source": [
    "fs=frozenset([1,2,3,4])\n",
    "print(fs)"
   ]
  },
  {
   "cell_type": "code",
   "execution_count": 137,
   "id": "0d47275b",
   "metadata": {},
   "outputs": [
    {
     "ename": "AttributeError",
     "evalue": "'frozenset' object has no attribute 'add'",
     "output_type": "error",
     "traceback": [
      "\u001b[1;31m---------------------------------------------------------------------------\u001b[0m",
      "\u001b[1;31mAttributeError\u001b[0m                            Traceback (most recent call last)",
      "Input \u001b[1;32mIn [137]\u001b[0m, in \u001b[0;36m<cell line: 1>\u001b[1;34m()\u001b[0m\n\u001b[1;32m----> 1\u001b[0m \u001b[43mfs\u001b[49m\u001b[38;5;241;43m.\u001b[39;49m\u001b[43madd\u001b[49m(\u001b[38;5;124m'\u001b[39m\u001b[38;5;124ma\u001b[39m\u001b[38;5;124m'\u001b[39m)\n",
      "\u001b[1;31mAttributeError\u001b[0m: 'frozenset' object has no attribute 'add'"
     ]
    }
   ],
   "source": [
    "fs.add('a')"
   ]
  },
  {
   "cell_type": "code",
   "execution_count": 139,
   "id": "8625ddee",
   "metadata": {},
   "outputs": [],
   "source": [
    "s1=set([1,3,7,2])\n",
    "s2=set([3,2,8,9])"
   ]
  },
  {
   "cell_type": "code",
   "execution_count": 140,
   "id": "4a843530",
   "metadata": {},
   "outputs": [
    {
     "data": {
      "text/plain": [
       "{1, 2, 3, 7, 8, 9}"
      ]
     },
     "execution_count": 140,
     "metadata": {},
     "output_type": "execute_result"
    }
   ],
   "source": [
    "s1.union(s2)"
   ]
  },
  {
   "cell_type": "code",
   "execution_count": 141,
   "id": "1d4da154",
   "metadata": {},
   "outputs": [
    {
     "data": {
      "text/plain": [
       "{1, 7}"
      ]
     },
     "execution_count": 141,
     "metadata": {},
     "output_type": "execute_result"
    }
   ],
   "source": [
    "s1.difference(s2)"
   ]
  },
  {
   "cell_type": "code",
   "execution_count": null,
   "id": "660e15bd",
   "metadata": {},
   "outputs": [],
   "source": []
  },
  {
   "cell_type": "code",
   "execution_count": null,
   "id": "b7dfd038",
   "metadata": {},
   "outputs": [],
   "source": []
  },
  {
   "cell_type": "code",
   "execution_count": null,
   "id": "b9c222f7",
   "metadata": {},
   "outputs": [],
   "source": []
  },
  {
   "cell_type": "code",
   "execution_count": null,
   "id": "e4d71369",
   "metadata": {},
   "outputs": [],
   "source": []
  },
  {
   "cell_type": "code",
   "execution_count": null,
   "id": "7575f202",
   "metadata": {},
   "outputs": [],
   "source": []
  },
  {
   "cell_type": "code",
   "execution_count": null,
   "id": "7766ba0d",
   "metadata": {},
   "outputs": [],
   "source": []
  },
  {
   "cell_type": "code",
   "execution_count": null,
   "id": "797aa7b6",
   "metadata": {},
   "outputs": [],
   "source": []
  },
  {
   "cell_type": "code",
   "execution_count": null,
   "id": "25d5c822",
   "metadata": {},
   "outputs": [],
   "source": []
  },
  {
   "cell_type": "code",
   "execution_count": null,
   "id": "ff45ff9d",
   "metadata": {},
   "outputs": [],
   "source": []
  },
  {
   "cell_type": "code",
   "execution_count": null,
   "id": "25d023ff",
   "metadata": {},
   "outputs": [],
   "source": []
  },
  {
   "cell_type": "code",
   "execution_count": null,
   "id": "4f37ad8e",
   "metadata": {},
   "outputs": [],
   "source": []
  },
  {
   "cell_type": "code",
   "execution_count": null,
   "id": "10f1ac1f",
   "metadata": {},
   "outputs": [],
   "source": []
  }
 ],
 "metadata": {
  "kernelspec": {
   "display_name": "Python 3 (ipykernel)",
   "language": "python",
   "name": "python3"
  },
  "language_info": {
   "codemirror_mode": {
    "name": "ipython",
    "version": 3
   },
   "file_extension": ".py",
   "mimetype": "text/x-python",
   "name": "python",
   "nbconvert_exporter": "python",
   "pygments_lexer": "ipython3",
   "version": "3.9.12"
  }
 },
 "nbformat": 4,
 "nbformat_minor": 5
}
